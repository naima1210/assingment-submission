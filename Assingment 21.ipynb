{
 "cells": [
  {
   "cell_type": "code",
   "execution_count": null,
   "id": "4cccf9af",
   "metadata": {},
   "outputs": [],
   "source": [
    "1. Add the current date to the text file today.txt as a string.\n",
    "2. Read the text file today.txt into the string today_string\n",
    "3. Parse the date from today_string.\n",
    "4. List the files in your current directory\n",
    "5. Create a list of all of the files in your parent directory (minimum five files should be available).\n",
    "6. Use multiprocessing to create three separate processes. Make each one wait a random number of\n",
    "seconds between one and five, print the current time, and then exit.\n",
    "7. Create a date object of your day of birth.\n",
    "8. What day of the week was your day of birth?\n",
    "9. When will you be (or when were you) 10,000 days old?"
   ]
  },
  {
   "cell_type": "code",
   "execution_count": 1,
   "id": "5a46ad6c",
   "metadata": {},
   "outputs": [
    {
     "name": "stdout",
     "output_type": "stream",
     "text": [
      "25-11-2022\n"
     ]
    }
   ],
   "source": [
    "#1. Add the current date to the text file today.txt as a string.\n",
    "import datetime\n",
    "# Code to Add current date to the today.txt file\n",
    "file = open('today.txt','w')\n",
    "file.write(datetime.datetime.now().strftime(\"%d-%m-%Y\"))\n",
    "file.close()\n",
    "# Code to Read current date from today.txt file\n",
    "file = open('today.txt','r')\n",
    "print(file.read())\n",
    "file.close()"
   ]
  },
  {
   "cell_type": "code",
   "execution_count": 3,
   "id": "ea7625a5",
   "metadata": {},
   "outputs": [
    {
     "name": "stdout",
     "output_type": "stream",
     "text": [
      "25-11-2022\n"
     ]
    }
   ],
   "source": [
    "#2. Read the text file today.txt into the string today_string\n",
    "file = open('today.txt','r')\n",
    "today_string = file.read()\n",
    "print(today_string)"
   ]
  },
  {
   "cell_type": "code",
   "execution_count": 4,
   "id": "a44c73cd",
   "metadata": {},
   "outputs": [
    {
     "name": "stdout",
     "output_type": "stream",
     "text": [
      "2022-11-25 00:00:00\n"
     ]
    }
   ],
   "source": [
    "#3. Parse the date from today_string.\n",
    "from datetime import datetime\n",
    "parsed_data = datetime.strptime(today_string, '%d-%m-%Y')\n",
    "print(parsed_data)"
   ]
  },
  {
   "cell_type": "code",
   "execution_count": 5,
   "id": "7c6383b1",
   "metadata": {},
   "outputs": [
    {
     "name": "stdout",
     "output_type": "stream",
     "text": [
      "Assingment 10.ipynb\n",
      "Assingment 11.ipynb\n",
      "Assingment 12.ipynb\n",
      "Assingment 13.ipynb\n",
      "Assingment 14.ipynb\n",
      "Assingment 15.ipynb\n",
      "Assingment 16.ipynb\n",
      "Assingment 17.ipynb\n",
      "Assingment 18.ipynb\n",
      "Assingment 19.ipynb\n",
      "Assingment 2 python.ipynb\n",
      "Assingment 20.ipynb\n",
      "Assingment 21.ipynb\n",
      "Assingment 4.ipynb\n",
      "Assingment 5.ipynb\n",
      "Assingment 6.ipynb\n",
      "Assingment 7.ipynb\n",
      "Assingment 8.ipynb\n",
      "Assingment 9.ipynb\n",
      "Assingment no 1.ipynb\n",
      "Assingment no 3.ipynb\n",
      "today.txt\n",
      "Assingment 10-checkpoint.ipynb\n",
      "Assingment 11-checkpoint.ipynb\n",
      "Assingment 12-checkpoint.ipynb\n",
      "Assingment 13-checkpoint.ipynb\n",
      "Assingment 14-checkpoint.ipynb\n",
      "Assingment 15-checkpoint.ipynb\n",
      "Assingment 16-checkpoint.ipynb\n",
      "Assingment 17-checkpoint.ipynb\n",
      "Assingment 18-checkpoint.ipynb\n",
      "Assingment 19-checkpoint.ipynb\n",
      "Assingment 2 python-checkpoint.ipynb\n",
      "Assingment 20-checkpoint.ipynb\n",
      "Assingment 21-checkpoint.ipynb\n",
      "Assingment 4-checkpoint.ipynb\n",
      "Assingment 5-checkpoint.ipynb\n",
      "Assingment 6-checkpoint.ipynb\n",
      "Assingment 7-checkpoint.ipynb\n",
      "Assingment 8-checkpoint.ipynb\n",
      "Assingment 9-checkpoint.ipynb\n",
      "Assingment no 1-checkpoint.ipynb\n",
      "Assingment no 3-checkpoint.ipynb\n"
     ]
    }
   ],
   "source": [
    "#4. List the files in your current directory\n",
    "import os\n",
    "for folders, subfolders, files in os.walk(os.getcwd()):\n",
    "    for file in files:\n",
    "        print(file)"
   ]
  },
  {
   "cell_type": "code",
   "execution_count": 6,
   "id": "870a02b5",
   "metadata": {},
   "outputs": [
    {
     "data": {
      "text/plain": [
       "['.ipynb_checkpoints',\n",
       " 'Assingment 10.ipynb',\n",
       " 'Assingment 11.ipynb',\n",
       " 'Assingment 12.ipynb',\n",
       " 'Assingment 13.ipynb',\n",
       " 'Assingment 14.ipynb',\n",
       " 'Assingment 15.ipynb',\n",
       " 'Assingment 16.ipynb',\n",
       " 'Assingment 17.ipynb',\n",
       " 'Assingment 18.ipynb',\n",
       " 'Assingment 19.ipynb',\n",
       " 'Assingment 2 python.ipynb',\n",
       " 'Assingment 20.ipynb',\n",
       " 'Assingment 21.ipynb',\n",
       " 'Assingment 4.ipynb',\n",
       " 'Assingment 5.ipynb',\n",
       " 'Assingment 6.ipynb',\n",
       " 'Assingment 7.ipynb',\n",
       " 'Assingment 8.ipynb',\n",
       " 'Assingment 9.ipynb',\n",
       " 'Assingment no 1.ipynb',\n",
       " 'Assingment no 3.ipynb',\n",
       " 'today.txt']"
      ]
     },
     "execution_count": 6,
     "metadata": {},
     "output_type": "execute_result"
    }
   ],
   "source": [
    "#5. Create a list of all of the files in your parent directory (minimum five files should be available).\n",
    "import os \n",
    "os.listdir()"
   ]
  },
  {
   "cell_type": "code",
   "execution_count": 7,
   "id": "18fe4489",
   "metadata": {},
   "outputs": [],
   "source": [
    "#6. Use multiprocessing to create three separate processes. Make each one wait a random number of seconds between one and five, print the current time, and then exit.\n",
    "import multiprocessing\n",
    "import time \n",
    "import random\n",
    "import datetime\n",
    "\n",
    "def procOne():\n",
    "    print(f'Proc_one_Starttime -> {datetime.datetime.now()}')\n",
    "    time.sleep(random.randint(1,5))\n",
    "    print(f'Proc_one_Endtime -> {datetime.datetime.now()}')\n",
    "    \n",
    "def procTwo():\n",
    "    print(f'Proc_two_Starttime -> {datetime.datetime.now()}')\n",
    "    time.sleep(random.randint(1,5))\n",
    "    print(f'Proc_two_Endtime -> {datetime.datetime.now()}')\n",
    "\n",
    "def procThree():\n",
    "    print(f'Proc_two_Starttime -> {datetime.datetime.now()}')\n",
    "    time.sleep(random.randint(1,5))\n",
    "    print(f'Proc_two_Endtime -> {datetime.datetime.now()}')\n",
    "    \n",
    "if __name__ == \"__main__\":    \n",
    "    p1 = multiprocessing.Process(target=procOne)\n",
    "    p2 = multiprocessing.Process(target=procTwo)\n",
    "    p3 = multiprocessing.Process(target=procThree)\n",
    "\n",
    "    p1.start()\n",
    "    p2.start()\n",
    "    p3.start()\n",
    "\n",
    "    p1.join()\n",
    "    p2.join()\n",
    "    p3.join()"
   ]
  },
  {
   "cell_type": "code",
   "execution_count": 8,
   "id": "4447a97f",
   "metadata": {},
   "outputs": [
    {
     "name": "stdout",
     "output_type": "stream",
     "text": [
      "1997-04-22 00:00:00 <class 'datetime.datetime'>\n"
     ]
    }
   ],
   "source": [
    "#7. Create a date object of your day of birth.\n",
    "from datetime import datetime\n",
    "my_dob = datetime.strptime('22/04/1997','%d/%m/%Y')\n",
    "print(my_dob, type(my_dob))"
   ]
  },
  {
   "cell_type": "code",
   "execution_count": 9,
   "id": "77520c29",
   "metadata": {},
   "outputs": [
    {
     "data": {
      "text/plain": [
       "'Tuesday'"
      ]
     },
     "execution_count": 9,
     "metadata": {},
     "output_type": "execute_result"
    }
   ],
   "source": [
    "#8. What day of the week was your day of birth?\n",
    "from datetime import datetime\n",
    "my_dob = datetime(1997,4,22)\n",
    "my_dob.strftime(\"%A\")"
   ]
  },
  {
   "cell_type": "code",
   "execution_count": 10,
   "id": "579356f9",
   "metadata": {},
   "outputs": [
    {
     "data": {
      "text/plain": [
       "datetime.datetime(1969, 12, 5, 0, 0)"
      ]
     },
     "execution_count": 10,
     "metadata": {},
     "output_type": "execute_result"
    }
   ],
   "source": [
    "#9. When will you be (or when were you) 10,000 days old?\n",
    "from datetime import datetime, timedelta\n",
    "my_dob = datetime.strptime(\"22/04/1997\",'%d/%m/%Y')\n",
    "future_date = my_dob-timedelta(10000)\n",
    "future_date"
   ]
  },
  {
   "cell_type": "code",
   "execution_count": null,
   "id": "60445f95",
   "metadata": {},
   "outputs": [],
   "source": []
  }
 ],
 "metadata": {
  "kernelspec": {
   "display_name": "Python 3 (ipykernel)",
   "language": "python",
   "name": "python3"
  },
  "language_info": {
   "codemirror_mode": {
    "name": "ipython",
    "version": 3
   },
   "file_extension": ".py",
   "mimetype": "text/x-python",
   "name": "python",
   "nbconvert_exporter": "python",
   "pygments_lexer": "ipython3",
   "version": "3.9.12"
  }
 },
 "nbformat": 4,
 "nbformat_minor": 5
}
