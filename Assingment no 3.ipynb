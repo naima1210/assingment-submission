{
 "cells": [
  {
   "cell_type": "code",
   "execution_count": null,
   "id": "57251e32",
   "metadata": {},
   "outputs": [],
   "source": [
    "1. Why are functions advantageous to have in your programs?\n",
    "2. When does the code in a function run: when it's specified or when it's called?\n",
    "3. What statement creates a function?\n",
    "4. What is the difference between a function and a function call?\n",
    "5. How many global scopes are there in a Python program? How many local scopes?\n",
    "6. What happens to variables in a local scope when the function call returns?\n",
    "7. What is the concept of a return value? Is it possible to have a return value in an expression?\n",
    "8. If a function does not have a return statement, what is the return value of a call to that function?\n",
    "9. How do you make a function variable refer to the global variable?\n",
    "10. What is the data type of None?\n",
    "11. What does the sentence import areallyourpetsnamederic do?\n",
    "12. If you had a bacon() feature in a spam module, what would you call it after importing spam?\n",
    "13. What can you do to save a programme from crashing if it encounters an error?\n",
    "14. What is the purpose of the try clause? What is the purpose of the except clause?\n"
   ]
  },
  {
   "cell_type": "code",
   "execution_count": null,
   "id": "2edeeee6",
   "metadata": {},
   "outputs": [],
   "source": [
    "1. Why are functions advantageous to have in your programs?\n",
    "Ans1.It helps to divide the large programs into small groups so that we can read the code, and debug the program faster and better.\n",
    "Python Functions stop us from writing the same logic various times. We can bind the logic in one def and then call the same over and over\n",
    "It encourages us to call the same method with different inputs over multiple times."
   ]
  },
  {
   "cell_type": "code",
   "execution_count": null,
   "id": "5ec8e420",
   "metadata": {},
   "outputs": [],
   "source": [
    "2. When does the code in a function run: when it's specified or when it's called?\n",
    "Ans2.The main function serves as the starting point for program execution. It usually controls program execution by directing the calls to other functions in the program."
   ]
  },
  {
   "cell_type": "code",
   "execution_count": null,
   "id": "b31aeca3",
   "metadata": {},
   "outputs": [],
   "source": [
    "3. What statement creates a function?\n",
    "Ans3.A function is created with the def keyword. The statements in the block of the function must be indented. The def keyword is followed by the function name with round brackets and a colon"
   ]
  },
  {
   "cell_type": "code",
   "execution_count": null,
   "id": "4b011a5d",
   "metadata": {},
   "outputs": [],
   "source": [
    "4. What is the difference between a function and a function call?\n",
    "Ans3.The difference between the function and function call is\n",
    "A function is procedure to achieve a particular result while function call is using this function to achive that task."
   ]
  },
  {
   "cell_type": "code",
   "execution_count": null,
   "id": "724fe8b2",
   "metadata": {},
   "outputs": [],
   "source": [
    "5. How many global scopes are there in a Python program? How many local scopes?\n",
    "Ans5.There is only one global scope and local scopes in python program."
   ]
  },
  {
   "cell_type": "code",
   "execution_count": null,
   "id": "606a72b2",
   "metadata": {},
   "outputs": [],
   "source": [
    "6. What happens to variables in a local scope when the function call returns?\n",
    "ANs6.When the execution of the function terminates (returns), the local variables are destroyed.\n",
    "    Codelens helps you visualize this because the local variables disappear after the function returns."
   ]
  },
  {
   "cell_type": "code",
   "execution_count": null,
   "id": "eb7c2859",
   "metadata": {},
   "outputs": [],
   "source": [
    "7. What is the concept of a return value? Is it possible to have a return value in an expression?\n",
    "Ans7.A return is a value that a function returns to the calling script or function when it completes its task.\n",
    "     A return value can be any one of the four variable types: handle, integer, object, or string. \n",
    "    The type of value your function returns depends largely on the task it performs."
   ]
  },
  {
   "cell_type": "code",
   "execution_count": null,
   "id": "82683797",
   "metadata": {},
   "outputs": [],
   "source": [
    "8. If a function does not have a return statement, what is the return value of a call to that function?\n",
    "Ans8.If no return statement appears in a function definition, control automatically returns to the calling function after the last statement of the called function is executed. In this case, the return value of the called function is undefined."
   ]
  },
  {
   "cell_type": "markdown",
   "id": "85f89d0a",
   "metadata": {},
   "source": [
    "9. How do you make a function variable refer to the global variable?\n",
    "Ans9.Use of “global†keyword to modify global variable inside a function.\n",
    "If your function has a local variable with same name as global variable and you want to modify the global variable inside function then use 'global' keyword before the variable name at start of function"
   ]
  },
  {
   "cell_type": "markdown",
   "id": "6262c844",
   "metadata": {},
   "source": [
    "10. What is the data type of None?\n",
    "Ans10. None is a data type of its own (NoneType) and only None can be None."
   ]
  },
  {
   "cell_type": "markdown",
   "id": "a0b76a66",
   "metadata": {},
   "source": [
    "11. What does the sentence import areallyourpetsnamederic do?\n",
    "Ans11.That import statement imports a module named areallyourpetsnamederic."
   ]
  },
  {
   "cell_type": "markdown",
   "id": "cace3d93",
   "metadata": {},
   "source": [
    "12. If you had a bacon() feature in a spam module, what would you call it after importing spam?\n",
    "Ans12.This function can be called with spam. bacon()."
   ]
  },
  {
   "cell_type": "markdown",
   "id": "dfadb934",
   "metadata": {},
   "source": [
    "13. What can you do to save a programme from crashing if it encounters an error?\n",
    "Ans13.When it encounters an error, the control is passed to the except block, skipping the code in between. As seen in the above code, we have moved our code inside a try and except statement. Try running the program and it should throw an error message instead of crashing the program"
   ]
  },
  {
   "cell_type": "markdown",
   "id": "4824e094",
   "metadata": {},
   "source": [
    "14. What is the purpose of the try clause? What is the purpose of the except clause?\n",
    "Ans14.The try block lets you test a block of code for errors. The except block lets you handle the error. The else block lets you execute code when there is no error."
   ]
  },
  {
   "cell_type": "code",
   "execution_count": null,
   "id": "b8cbf14e",
   "metadata": {},
   "outputs": [],
   "source": []
  },
  {
   "cell_type": "code",
   "execution_count": null,
   "id": "ea7cad56",
   "metadata": {},
   "outputs": [],
   "source": []
  },
  {
   "cell_type": "code",
   "execution_count": null,
   "id": "83d7c133",
   "metadata": {},
   "outputs": [],
   "source": []
  }
 ],
 "metadata": {
  "kernelspec": {
   "display_name": "Python 3 (ipykernel)",
   "language": "python",
   "name": "python3"
  },
  "language_info": {
   "codemirror_mode": {
    "name": "ipython",
    "version": 3
   },
   "file_extension": ".py",
   "mimetype": "text/x-python",
   "name": "python",
   "nbconvert_exporter": "python",
   "pygments_lexer": "ipython3",
   "version": "3.9.7"
  }
 },
 "nbformat": 4,
 "nbformat_minor": 5
}
