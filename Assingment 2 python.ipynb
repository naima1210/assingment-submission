{
 "cells": [
  {
   "cell_type": "markdown",
   "id": "52dbedee",
   "metadata": {},
   "source": [
    "#1.What are the two values of the Boolean data type? How do you write them?\n",
    "Ans True and False"
   ]
  },
  {
   "cell_type": "markdown",
   "id": "97a309b3",
   "metadata": {},
   "source": [
    "#2. What are the three different types of Boolean operators?\n",
    "Ans 1)And\n",
    "    2)Or\n",
    "    3)Not"
   ]
  },
  {
   "cell_type": "code",
   "execution_count": null,
   "id": "10a6b6eb",
   "metadata": {},
   "outputs": [],
   "source": [
    "#3. Make a list of each Boolean operator's truth tables (i.e. every possible combination of Boolean values for the operator and what it evaluate )."
   ]
  },
  {
   "cell_type": "markdown",
   "id": "42816811",
   "metadata": {},
   "source": [
    "#4. What are the values of the following expressions?\n",
    "(5 > 4) and (3 == 5)                       ans False\n",
    "not (5 > 4)                                ans False\n",
    "(5 > 4) or (3 == 5)                        ans True\n",
    "not ((5 > 4) or (3 == 5))                  ans False\n",
    "(True and True) and (True == False)        ans False\n",
    "(not False) or (not True)                  ans True\n"
   ]
  },
  {
   "cell_type": "markdown",
   "id": "f40d8233",
   "metadata": {},
   "source": [
    "#5. What are the six comparison operators?\n",
    "1)less than ( < )\n",
    "2)less than or equal to ( <= )\n",
    "3)greater than ( > )\n",
    "4)greater than or equal to ( >= )\n",
    "5)equal to ( == )\n",
    "6)not equal to ( != )"
   ]
  },
  {
   "cell_type": "code",
   "execution_count": null,
   "id": "aa30f202",
   "metadata": {},
   "outputs": [],
   "source": [
    "6. How do you tell the difference between the equal to and assignment operators?Describe a condition and when you would use one."
   ]
  },
  {
   "cell_type": "code",
   "execution_count": null,
   "id": "b2b9fff3",
   "metadata": {},
   "outputs": [],
   "source": []
  },
  {
   "cell_type": "code",
   "execution_count": 31,
   "id": "d68680c0",
   "metadata": {},
   "outputs": [
    {
     "name": "stdout",
     "output_type": "stream",
     "text": [
      "ham\n",
      "spam\n",
      "spam\n"
     ]
    }
   ],
   "source": [
    "#7. Identify the three blocks in this code:\n",
    "spam = 0\n",
    "if spam == 10:\n",
    "    print('eggs')\n",
    "    if spam > 5 :\n",
    "        print('bacon')\n",
    "else:\n",
    "    print('ham')\n",
    "    print('spam')\n",
    "    print('spam')\n"
   ]
  },
  {
   "cell_type": "code",
   "execution_count": 32,
   "id": "1c08383d",
   "metadata": {},
   "outputs": [],
   "source": [
    "#8. Write code that prints Hello if 1 is stored in spam, prints Howdy if 2 is stored in spam, and prints Greetings! if anything else is stored in spam."
   ]
  },
  {
   "cell_type": "code",
   "execution_count": 64,
   "id": "f39669ec",
   "metadata": {},
   "outputs": [
    {
     "name": "stdout",
     "output_type": "stream",
     "text": [
      "Hello\n",
      "Greetings\n"
     ]
    }
   ],
   "source": [
    "#ans\n",
    "spam = 1\n",
    "if spam == 1:\n",
    "    print('Hello')\n",
    "if spam ==2:\n",
    "    print('Howdy')\n",
    "else:\n",
    "    print('Greetings')"
   ]
  },
  {
   "cell_type": "markdown",
   "id": "4d6a10f4",
   "metadata": {},
   "source": [
    "#9.If your programme is stuck in an endless loop, what keys you’ll press?\n",
    "Ans Ctrl + C"
   ]
  },
  {
   "cell_type": "markdown",
   "id": "37ee303c",
   "metadata": {},
   "source": [
    "#10. How can you tell the difference between break and continue?\n",
    "Ans The continue keyword is used to end the current iteration in a for loop or a while loop and continues to the next iteration.while a break statement immediately terminates a loop entirely. "
   ]
  },
  {
   "cell_type": "markdown",
   "id": "433043df",
   "metadata": {},
   "source": [
    "#11. In a for loop, what is the difference between range(10), range(0, 10), and range(0, 10, 1)?\n",
    "Ans There is no difference between range(10),range(0,10) and range(0 ,10,1 ) they gives the no between 1 to 10"
   ]
  },
  {
   "cell_type": "code",
   "execution_count": null,
   "id": "ff830c84",
   "metadata": {},
   "outputs": [],
   "source": [
    "#12. Write a short program that prints the numbers 1 to 10 using a for loop. Then write an equivalent program that prints the numbers 1 to 10 using a while loop."
   ]
  },
  {
   "cell_type": "code",
   "execution_count": 113,
   "id": "c3075870",
   "metadata": {},
   "outputs": [
    {
     "name": "stdout",
     "output_type": "stream",
     "text": [
      "1\n",
      "2\n",
      "3\n",
      "4\n",
      "5\n",
      "6\n",
      "7\n",
      "8\n",
      "9\n",
      "10\n"
     ]
    }
   ],
   "source": [
    "#ans 12\n",
    "i = 1\n",
    "for i in range(10):\n",
    "    print(i+1)"
   ]
  },
  {
   "cell_type": "code",
   "execution_count": 114,
   "id": "050cf6aa",
   "metadata": {},
   "outputs": [],
   "source": [
    "i = 10\n",
    "while i in range (0,10):\n",
    "    print(i+1)"
   ]
  },
  {
   "cell_type": "code",
   "execution_count": null,
   "id": "a0c29a27",
   "metadata": {},
   "outputs": [],
   "source": [
    "#13. If you had a function named bacon() inside a module named spam, how would you call it after importing spam?"
   ]
  },
  {
   "cell_type": "code",
   "execution_count": null,
   "id": "8f6ffed0",
   "metadata": {},
   "outputs": [],
   "source": [
    "spam = bacon()"
   ]
  },
  {
   "cell_type": "code",
   "execution_count": null,
   "id": "a79e3863",
   "metadata": {},
   "outputs": [],
   "source": []
  }
 ],
 "metadata": {
  "kernelspec": {
   "display_name": "Python 3 (ipykernel)",
   "language": "python",
   "name": "python3"
  },
  "language_info": {
   "codemirror_mode": {
    "name": "ipython",
    "version": 3
   },
   "file_extension": ".py",
   "mimetype": "text/x-python",
   "name": "python",
   "nbconvert_exporter": "python",
   "pygments_lexer": "ipython3",
   "version": "3.9.7"
  }
 },
 "nbformat": 4,
 "nbformat_minor": 5
}
