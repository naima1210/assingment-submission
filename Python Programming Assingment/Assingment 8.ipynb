{
 "cells": [
  {
   "cell_type": "code",
   "execution_count": null,
   "id": "5f88d15e",
   "metadata": {},
   "outputs": [],
   "source": [
    "1. Write a Python Program to Add Two Matrices?\n",
    "2. Write a Python Program to Multiply Two Matrices?\n",
    "3. Write a Python Program to Transpose a Matrix?\n",
    "4. Write a Python Program to Sort Words in Alphabetic Order?\n",
    "5. Write a Python Program to Remove Punctuation From a String?"
   ]
  },
  {
   "cell_type": "code",
   "execution_count": 1,
   "id": "1d6b0d3f",
   "metadata": {},
   "outputs": [
    {
     "name": "stdout",
     "output_type": "stream",
     "text": [
      "Inputs: [[1, 2, 3], [4, 5, 6], [7, 8, 9]],[[9, 8, 7], [6, 5, 4], [3, 2, 1]]\n",
      "Output: [[10, 10, 10], [10, 10, 10], [10, 10, 10]]\n",
      "Inputs: [[2, 3, 5], [1, 1, 1], [2, 2, 2]],[[4, 3, 5], [1, 2, 3], [3, 2, 1]]\n",
      "Output: [[6, 6, 10], [2, 3, 4], [5, 4, 3]]\n"
     ]
    }
   ],
   "source": [
    "#1. Write a Python Program to Add two Matrices ?\n",
    "def addMatrices(a,b):\n",
    "    print(f'Inputs: {a},{b}')\n",
    "    if len(a) == len(b):\n",
    "        out_matrix = []\n",
    "        for ele in range(len(a)):\n",
    "            if len(a[ele]) == len(b[ele]):\n",
    "                out_matrix.append([])\n",
    "                for sub_ele in range(len(a[ele])):\n",
    "                    out_matrix[ele].append(a[ele][sub_ele]+b[ele][sub_ele])\n",
    "            else:\n",
    "                print('Both Matrices must contains same no of rows and columns') \n",
    "    else:\n",
    "        print('Both Matrices must contains same no of rows and columns')\n",
    "    print(f'Output: {out_matrix}')\n",
    "\n",
    "addMatrices([[1,2,3],[4,5,6],[7,8,9]],[[9,8,7],[6,5,4],[3,2,1]])\n",
    "addMatrices([[2,3,5],[1,1,1],[2,2,2]],[[4,3,5],[1,2,3],[3,2,1]])"
   ]
  },
  {
   "cell_type": "code",
   "execution_count": 2,
   "id": "86b44f43",
   "metadata": {},
   "outputs": [
    {
     "name": "stdout",
     "output_type": "stream",
     "text": [
      "[[14, 32, 50], [32, 77, 122], [50, 122, 194]]\n"
     ]
    }
   ],
   "source": [
    "#2. Write a Python Program to Multiply two Matrices ?\n",
    "a = [[1,2,3],[4,5,6],[7,8,9]]\n",
    "b = [[1,4,7],[2,5,8],[3,6,9]]\n",
    "\n",
    "def multiply_matrice(a,b):\n",
    "    output = []\n",
    "    if len(a[0]) == len(b):\n",
    "        for ele in range(len(a[0])):\n",
    "            output.append([0 for ele in range(len(b[0]))])\n",
    "        for i in range(len(a)):\n",
    "            for j in range(len(b[0])):\n",
    "                for k in range(len(b)):\n",
    "                    output[i][j] += a[i][k]*b[k][j]\n",
    "        print(output)     \n",
    "    else:\n",
    "        print('Matrix Multiplication is Not Possible')\n",
    "        \n",
    "multiply_matrice(a,b)"
   ]
  },
  {
   "cell_type": "code",
   "execution_count": 3,
   "id": "8fba8e6b",
   "metadata": {},
   "outputs": [
    {
     "name": "stdout",
     "output_type": "stream",
     "text": [
      "[[1, 2, 3], [4, 5, 6], [7, 8, 9]] -> [[1, 4, 7], [2, 5, 8], [3, 6, 9]]\n",
      "[[1, 2], [4, 5], [7, 8]] -> [[1, 4, 7], [2, 5, 8]]\n",
      "[[1, 2, 3], [4, 5, 6]] -> [[1, 4], [2, 5], [3, 6]]\n"
     ]
    }
   ],
   "source": [
    "#3. Write a Python Program to transpose a Matrix ?\n",
    "a = [[1,2,3],[4,5,6],[7,8,9]]\n",
    "b = [[1,2],[4,5],[7,8]]\n",
    "c = [[1,2,3],[4,5,6]]\n",
    "\n",
    "def generate_transpose(in_matrix):\n",
    "    out_matrix = []\n",
    "    for ele in range(len(in_matrix[0])):\n",
    "        out_matrix.append([0 for i in range(len(in_matrix))])\n",
    "    for i in range(len(in_matrix)):\n",
    "        for j in range(len(in_matrix[i])):\n",
    "            out_matrix[j][i] = in_matrix[i][j]\n",
    "    print(f'{in_matrix} -> {out_matrix}')\n",
    "        \n",
    "generate_transpose(a)\n",
    "generate_transpose(b)\n",
    "generate_transpose(c)"
   ]
  },
  {
   "cell_type": "code",
   "execution_count": 4,
   "id": "decd592b",
   "metadata": {},
   "outputs": [
    {
     "name": "stdout",
     "output_type": "stream",
     "text": [
      "Enter a String: my name is prashant\n",
      "Is My Name Prashant\n"
     ]
    }
   ],
   "source": [
    "#4. Write a Python Program to sort Words in an Alphabatical Order ?\n",
    "def sortString():\n",
    "    in_string = input(\"Enter a String: \").title()\n",
    "    sorted_list = sorted(in_string.split(' '))\n",
    "    print(' '.join(sorted_list))\n",
    "\n",
    "sortString()"
   ]
  },
  {
   "cell_type": "code",
   "execution_count": 5,
   "id": "aa6e05cd",
   "metadata": {},
   "outputs": [
    {
     "name": "stdout",
     "output_type": "stream",
     "text": [
      "Enter a String: \"my mail id is \"@ dgmail\n",
      "my mail id is  dgmail\n"
     ]
    }
   ],
   "source": [
    "#5. Write a Python Program to remove Punctuations From a String ?\n",
    "def removePunctuatuions():\n",
    "    punctuations = '''!()-[]{};:'\"\\,<>./?@#$%^&*_~'''\n",
    "    in_string = input('Enter a String: ')\n",
    "    out_string = ''\n",
    "    for ele in in_string:\n",
    "        if ele not in punctuations:\n",
    "            out_string += ele\n",
    "    print(out_string)\n",
    "    \n",
    "removePunctuatuions()"
   ]
  },
  {
   "cell_type": "code",
   "execution_count": null,
   "id": "83815be6",
   "metadata": {},
   "outputs": [],
   "source": []
  },
  {
   "cell_type": "code",
   "execution_count": null,
   "id": "b467c7eb",
   "metadata": {},
   "outputs": [],
   "source": []
  },
  {
   "cell_type": "code",
   "execution_count": null,
   "id": "3c71e299",
   "metadata": {},
   "outputs": [],
   "source": []
  }
 ],
 "metadata": {
  "kernelspec": {
   "display_name": "Python 3 (ipykernel)",
   "language": "python",
   "name": "python3"
  },
  "language_info": {
   "codemirror_mode": {
    "name": "ipython",
    "version": 3
   },
   "file_extension": ".py",
   "mimetype": "text/x-python",
   "name": "python",
   "nbconvert_exporter": "python",
   "pygments_lexer": "ipython3",
   "version": "3.9.12"
  }
 },
 "nbformat": 4,
 "nbformat_minor": 5
}
