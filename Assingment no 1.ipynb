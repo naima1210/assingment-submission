{
 "cells": [
  {
   "cell_type": "raw",
   "id": "ec3cfc40",
   "metadata": {},
   "source": [
    "# que1. In the below elements which of them are values or an expression? eg:- values can be integer or string and expressions will be mathematical operators.\n",
    "* \n",
    "'hello'\n",
    "-87.8\n",
    "- \n",
    "/ \n",
    "+\n",
    "6 \n",
    "\n",
    "\n",
    "#ans values     -> ( 'hello' , -87.8 ,6 )\n",
    "     expression -> ( * , - , /, + )"
   ]
  },
  {
   "cell_type": "raw",
   "id": "3928e0ed",
   "metadata": {},
   "source": [
    "#que2. What is the difference between string and variable?\n",
    "\n",
    "#ans Variables are symbols that can be used store the data in program it may be in the form of string,float,int\n",
    "     and string is type of information which is stored in variales\n"
   ]
  },
  {
   "cell_type": "raw",
   "id": "17efae56",
   "metadata": {},
   "source": [
    "#que3. Describe three different data types.\n",
    "\n",
    "#ans3. Numeric  -> In these data they represent the numeric value the numeric value can be an integer , floating number,                          complex number\n",
    "\n",
    "      Sequence -> In the sequence data They are the collection of similar or different data types it includes string , list ,                     tuples , range\n",
    "\n",
    "      Boolean  -> They represents one of the two values i.e. True or False. Generally, it is used to represent the truth values                   of the expressions.\n"
   ]
  },
  {
   "cell_type": "raw",
   "id": "1daa4d1a",
   "metadata": {},
   "source": [
    "#que4. What is an expression made up of? What do all expressions do?\n",
    "\n",
    "#ans4. Expression made of variables and operators.they constructed according to syntax of language.expression.Expressions are          representations of value."
   ]
  },
  {
   "cell_type": "raw",
   "id": "45edd8f5",
   "metadata": {},
   "source": [
    "#que5. This assignment statements, like spam = 10. What is the difference between an expression and a statement?"
   ]
  },
  {
   "cell_type": "code",
   "execution_count": 36,
   "id": "1881be99",
   "metadata": {},
   "outputs": [],
   "source": [
    "#que6. After running the following code, what does the variable bacon contain?\n",
    "bacon = 22"
   ]
  },
  {
   "cell_type": "code",
   "execution_count": 37,
   "id": "93228122",
   "metadata": {},
   "outputs": [
    {
     "data": {
      "text/plain": [
       "23"
      ]
     },
     "execution_count": 37,
     "metadata": {},
     "output_type": "execute_result"
    }
   ],
   "source": [
    "bacon + 1"
   ]
  },
  {
   "cell_type": "code",
   "execution_count": 31,
   "id": "cbf3ceac",
   "metadata": {},
   "outputs": [
    {
     "data": {
      "text/plain": [
       "'spamspamspam'"
      ]
     },
     "execution_count": 31,
     "metadata": {},
     "output_type": "execute_result"
    }
   ],
   "source": [
    "#que7. What should the values of the following two terms be?\n",
    "'spam' + 'spamspam'\n"
   ]
  },
  {
   "cell_type": "code",
   "execution_count": 32,
   "id": "4a400111",
   "metadata": {},
   "outputs": [
    {
     "data": {
      "text/plain": [
       "'spamspamspam'"
      ]
     },
     "execution_count": 32,
     "metadata": {},
     "output_type": "execute_result"
    }
   ],
   "source": [
    "'spam' * 3"
   ]
  },
  {
   "cell_type": "raw",
   "id": "744b39fa",
   "metadata": {},
   "source": [
    "#que 8. Why is eggs a valid variable name while 100 is invalid?\n",
    "\n",
    "#ans 8. Eggs is a valid variable because they start with letters not numbers while 100 is invalid because variable names cannot         begin with a number."
   ]
  },
  {
   "cell_type": "raw",
   "id": "33294d6b",
   "metadata": {},
   "source": [
    "#que 9.What three functions can be used to get the integer, floating-point number, or string version of a value?\n",
    "\n",
    "#ans 9. int() for integer\n",
    "        float() for floating point number\n",
    "        str() for string like str(12435)"
   ]
  },
  {
   "cell_type": "code",
   "execution_count": 34,
   "id": "f002e861",
   "metadata": {},
   "outputs": [
    {
     "data": {
      "text/plain": [
       "'I have eaten 99 burritos.'"
      ]
     },
     "execution_count": 34,
     "metadata": {},
     "output_type": "execute_result"
    }
   ],
   "source": [
    "#que10. Why does this expression cause an error? How can you fix it?\n",
    "'I have eaten ' +'99' + ' burritos.'\n"
   ]
  },
  {
   "cell_type": "code",
   "execution_count": null,
   "id": "833e063d",
   "metadata": {},
   "outputs": [],
   "source": []
  },
  {
   "cell_type": "code",
   "execution_count": null,
   "id": "5c6d9c13",
   "metadata": {},
   "outputs": [],
   "source": []
  },
  {
   "cell_type": "code",
   "execution_count": null,
   "id": "1f0d9b79",
   "metadata": {},
   "outputs": [],
   "source": []
  },
  {
   "cell_type": "code",
   "execution_count": null,
   "id": "6df2d9b7",
   "metadata": {},
   "outputs": [],
   "source": []
  },
  {
   "cell_type": "code",
   "execution_count": null,
   "id": "f5a8ac1f",
   "metadata": {},
   "outputs": [],
   "source": []
  },
  {
   "cell_type": "code",
   "execution_count": null,
   "id": "899201ce",
   "metadata": {},
   "outputs": [],
   "source": []
  }
 ],
 "metadata": {
  "kernelspec": {
   "display_name": "Python 3 (ipykernel)",
   "language": "python",
   "name": "python3"
  },
  "language_info": {
   "codemirror_mode": {
    "name": "ipython",
    "version": 3
   },
   "file_extension": ".py",
   "mimetype": "text/x-python",
   "name": "python",
   "nbconvert_exporter": "python",
   "pygments_lexer": "ipython3",
   "version": "3.9.7"
  }
 },
 "nbformat": 4,
 "nbformat_minor": 5
}
