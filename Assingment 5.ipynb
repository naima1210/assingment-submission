{
 "cells": [
  {
   "cell_type": "code",
   "execution_count": null,
   "id": "e7734260",
   "metadata": {},
   "outputs": [],
   "source": [
    "1. What does an empty dictionary's code look like?\n",
    "2. What is the value of a dictionary value with the key 'foo' and the value 42?\n",
    "3. What is the most significant distinction between a dictionary and a list?\n",
    "4. What happens if you try to access spam['foo'] if spam is {'bar': 100}?\n",
    "5. If a dictionary is stored in spam, what is the difference between the expressions 'cat' in spam and 'cat' in spam.keys()?\n",
    "6. If a dictionary is stored in spam, what is the difference between the expressions 'cat' in spam and 'cat' in spam.values()?\n",
    "7. What is a shortcut for the following code?\n",
    "if 'color' not in spam:\n",
    "spam['color'] = 'black'\n",
    "\n",
    "8. How do you \"pretty print\" dictionary values using which module and function?\n"
   ]
  },
  {
   "cell_type": "code",
   "execution_count": null,
   "id": "4090e0d2",
   "metadata": {},
   "outputs": [],
   "source": [
    "1. What does an empty dictionary's code look like?\n",
    "Ans. {}"
   ]
  },
  {
   "cell_type": "code",
   "execution_count": 13,
   "id": "189528f3",
   "metadata": {},
   "outputs": [],
   "source": [
    "#2. What is the value of a dictionary value with the key 'foo' and the value 42?\n",
    "Ans.dictionary_value = {'foo':42}"
   ]
  },
  {
   "cell_type": "markdown",
   "id": "3d0f8f45",
   "metadata": {},
   "source": [
    "3. What is the most significant distinction between a dictionary and a list?\n",
    "Ans.Dictionary is an unordered collection of data values. Dictionary holds key:value pair. Key-Value is provided in the dictionary to make it more optimised. \n",
    "\n",
    "  List may contain DataTypes like Integers, Strings, as well as Objects. Lists are mutable, and hence, they can be altered   even after their creation."
   ]
  },
  {
   "cell_type": "code",
   "execution_count": 17,
   "id": "5a383d5e",
   "metadata": {},
   "outputs": [
    {
     "data": {
      "text/plain": [
       "100"
      ]
     },
     "execution_count": 17,
     "metadata": {},
     "output_type": "execute_result"
    }
   ],
   "source": [
    "#4. What happens if you try to access spam['foo'] if spam is {'bar': 100}?\n",
    "spam = {'bar':100}\n",
    "spam['foo']\n",
    "#we find key error"
   ]
  },
  {
   "cell_type": "code",
   "execution_count": 23,
   "id": "cb4e991d",
   "metadata": {},
   "outputs": [],
   "source": [
    "#5. If a dictionary is stored in spam, what is the difference between the expressions 'cat' in spam and 'cat' in spam.keys()?\n",
    "spam ={'cat':'cat'}\n",
    "there is no difference because in operator checks "
   ]
  },
  {
   "cell_type": "code",
   "execution_count": null,
   "id": "9440b519",
   "metadata": {},
   "outputs": [],
   "source": [
    "#6If a dictionary is stored in spam, what is the difference between the expressions 'cat' in spam and 'cat' in spam.values()?\n",
    "spam ={'cat':'cat'}\n",
    "'cat' in spam checks whether there is a 'cat' key in the dictionary,\n",
    " while 'cat' in spam.values() checks whether there is a value 'cat' for one of the keys in spam. "
   ]
  },
  {
   "cell_type": "code",
   "execution_count": null,
   "id": "7db275f8",
   "metadata": {},
   "outputs": [],
   "source": [
    "#7. What is a shortcut for the following code?\n",
    "#if 'color' not in spam:\n",
    " #   spam['color'] = 'black'\n",
    "    \n",
    "Ans. spam.setdefault('color', 'black')"
   ]
  },
  {
   "cell_type": "code",
   "execution_count": 28,
   "id": "261e4d65",
   "metadata": {},
   "outputs": [],
   "source": [
    "#8.What module and function can be used to \"pretty print\" dictionary values?\n",
    "Ans.pprint.pprint()"
   ]
  },
  {
   "cell_type": "code",
   "execution_count": null,
   "id": "a16efe09",
   "metadata": {},
   "outputs": [],
   "source": []
  },
  {
   "cell_type": "code",
   "execution_count": null,
   "id": "079bbad2",
   "metadata": {},
   "outputs": [],
   "source": []
  }
 ],
 "metadata": {
  "kernelspec": {
   "display_name": "Python 3 (ipykernel)",
   "language": "python",
   "name": "python3"
  },
  "language_info": {
   "codemirror_mode": {
    "name": "ipython",
    "version": 3
   },
   "file_extension": ".py",
   "mimetype": "text/x-python",
   "name": "python",
   "nbconvert_exporter": "python",
   "pygments_lexer": "ipython3",
   "version": "3.9.7"
  }
 },
 "nbformat": 4,
 "nbformat_minor": 5
}
